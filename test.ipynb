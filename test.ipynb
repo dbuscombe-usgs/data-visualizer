{
 "cells": [
  {
   "cell_type": "code",
   "execution_count": null,
   "metadata": {},
   "outputs": [],
   "source": [
    "# cd C:\\Users\\Venuxk\\Projects\\data-visualizer\n",
    "# conda activate visualizer\n",
    "# jupyter notebook test.ipynb"
   ]
  },
  {
   "cell_type": "code",
   "execution_count": null,
   "metadata": {},
   "outputs": [],
   "source": [
    "import geoviews as gv\n",
    "\n",
    "gv.help(gv.Points)"
   ]
  },
  {
   "cell_type": "code",
   "execution_count": null,
   "metadata": {},
   "outputs": [],
   "source": [
    "import rioxarray\n",
    "import geoviews as gv\n",
    "import cartopy\n",
    "import rasterio\n",
    "\n",
    "data = rioxarray.open_rasterio(\".\\data\\Elwha\\Digital Elevation Models (DEMs)\\ew11_may_dem_1m.asc\")\n",
    "\n",
    "# data.rio.write_crs(\"epsg:32148\", inplace = True)\n",
    "elwha_crs = rasterio.crs.CRS.from_dict({\n",
    "    \"proj\": \"lcc\",\n",
    "    \"lat_1\": 47.5,\n",
    "    \"lat_2\": 48.73333333333333,\n",
    "    \"lon_0\": -120.8333333333333,\n",
    "    \"lat_0\": 47.0,\n",
    "    \"x_0\": 500000.0,\n",
    "    \"y_0\": 0.0,\n",
    "    \"units\": \"m\",\n",
    "    \"datum\": \"NAD83\",\n",
    "    \"ellps\": \"GRS80\",\n",
    "    \"no_defs\": True,\n",
    "    \"type\": \"crs\"\n",
    "})\n",
    "data.rio.write_crs(elwha_crs, inplace = True)\n",
    "data.rio.to_raster(\n",
    "    raster_path = \".\\data\\Elwha\\ew11_may_dem_1m.tif\",\n",
    "    driver = \"GTiff\"\n",
    ")\n",
    "\n",
    "data\n",
    "\n",
    "# dataset = rioxarray.open_rasterio(\".\\data\\Elwha\\Digital Elevation Models (DEMs)\\ew11_may_dem_1m.tif\")\n",
    "# data = gv.Dataset(dataset, [\"x\", \"y\"], \"value\")\n",
    "# plot = data.to(gv.Image)\n",
    "\n",
    "# plot = gv.load_tiff(\n",
    "#     \".\\data\\Elwha\\Digital Elevation Models (DEMs)\\ew11_may_dem_1m.tif\",\n",
    "#     crs = cartopy.crs.epsg(26914),\n",
    "#     nan_nodata = True\n",
    "# )\n",
    "# gv.tile_sources.Wikipedia * plot"
   ]
  },
  {
   "cell_type": "code",
   "execution_count": 3,
   "metadata": {},
   "outputs": [],
   "source": [
    "import rasterio\n",
    "\n",
    "# dataset = rasterio.open(\".\\data\\Elwha\\Digital Elevation Models (DEMs)\\ew11_may_dem_1m.asc\")\n",
    "# band1 = dataset.read(1)\n",
    "# dataset\n",
    "\n",
    "dataset = rasterio.open(\".\\data\\Elwha\\Digital Elevation Models (DEMs)\\ew11_may_dem_1m.tif\")\n",
    "dataset.crs"
   ]
  },
  {
   "cell_type": "code",
   "execution_count": 8,
   "metadata": {},
   "outputs": [
    {
     "data": {
      "text/plain": [
       ":Overlay\n",
       "   .WMTS.I  :WMTS   [Longitude,Latitude]\n",
       "   .Image.I :Image   [x,y]   (z)"
      ]
     },
     "execution_count": 8,
     "metadata": {},
     "output_type": "execute_result"
    }
   ],
   "source": [
    "import geoviews as gv\n",
    "\n",
    "t = gv.load_tiff(\".\\data\\Elwha\\Digital Elevation Models (DEMs)\\ew11_may_dem_1m.tif\", nan_nodata=True)\n",
    "gv.tile_sources.Wikipedia * t"
   ]
  },
  {
   "cell_type": "code",
   "execution_count": null,
   "metadata": {},
   "outputs": [],
   "source": []
  }
 ],
 "metadata": {
  "kernelspec": {
   "display_name": "Python 3 (ipykernel)",
   "language": "python",
   "name": "python3"
  },
  "language_info": {
   "codemirror_mode": {
    "name": "ipython",
    "version": 3
   },
   "file_extension": ".py",
   "mimetype": "text/x-python",
   "name": "python",
   "nbconvert_exporter": "python",
   "pygments_lexer": "ipython3",
   "version": "3.10.6"
  }
 },
 "nbformat": 4,
 "nbformat_minor": 2
}
